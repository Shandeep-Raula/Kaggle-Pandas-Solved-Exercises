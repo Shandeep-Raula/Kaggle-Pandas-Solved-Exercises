{
 "cells": [
  {
   "cell_type": "markdown",
   "id": "2535d3fe",
   "metadata": {
    "papermill": {
     "duration": 0.004824,
     "end_time": "2025-03-08T12:01:00.244269",
     "exception": false,
     "start_time": "2025-03-08T12:01:00.239445",
     "status": "completed"
    },
    "tags": []
   },
   "source": [
    "**This notebook is an exercise in the [Pandas](https://www.kaggle.com/learn/pandas) course.  You can reference the tutorial at [this link](https://www.kaggle.com/residentmario/creating-reading-and-writing).**\n",
    "\n",
    "---\n"
   ]
  },
  {
   "cell_type": "markdown",
   "id": "b480eda8",
   "metadata": {
    "papermill": {
     "duration": 0.003822,
     "end_time": "2025-03-08T12:01:00.252349",
     "exception": false,
     "start_time": "2025-03-08T12:01:00.248527",
     "status": "completed"
    },
    "tags": []
   },
   "source": [
    "# Introduction\n",
    "\n",
    "The first step in most data analytics projects is reading the data file. In this exercise, you'll create Series and DataFrame objects, both by hand and by reading data files.\n",
    "\n",
    "Run the code cell below to load libraries you will need (including code to check your answers)."
   ]
  },
  {
   "cell_type": "code",
   "execution_count": 1,
   "id": "ac1ed945",
   "metadata": {
    "execution": {
     "iopub.execute_input": "2025-03-08T12:01:00.261807Z",
     "iopub.status.busy": "2025-03-08T12:01:00.261401Z",
     "iopub.status.idle": "2025-03-08T12:01:02.663322Z",
     "shell.execute_reply": "2025-03-08T12:01:02.662299Z"
    },
    "papermill": {
     "duration": 2.408692,
     "end_time": "2025-03-08T12:01:02.665090",
     "exception": false,
     "start_time": "2025-03-08T12:01:00.256398",
     "status": "completed"
    },
    "tags": []
   },
   "outputs": [
    {
     "name": "stdout",
     "output_type": "stream",
     "text": [
      "Setup complete.\n"
     ]
    }
   ],
   "source": [
    "import pandas as pd\n",
    "pd.set_option('display.max_rows', 5)\n",
    "from learntools.core import binder; binder.bind(globals())\n",
    "from learntools.pandas.creating_reading_and_writing import *\n",
    "print(\"Setup complete.\")"
   ]
  },
  {
   "cell_type": "markdown",
   "id": "7cf46391",
   "metadata": {
    "papermill": {
     "duration": 0.004121,
     "end_time": "2025-03-08T12:01:02.673836",
     "exception": false,
     "start_time": "2025-03-08T12:01:02.669715",
     "status": "completed"
    },
    "tags": []
   },
   "source": [
    "# Exercises"
   ]
  },
  {
   "cell_type": "markdown",
   "id": "eaf5589e",
   "metadata": {
    "papermill": {
     "duration": 0.00401,
     "end_time": "2025-03-08T12:01:02.682086",
     "exception": false,
     "start_time": "2025-03-08T12:01:02.678076",
     "status": "completed"
    },
    "tags": []
   },
   "source": [
    "## 1.\n",
    "\n",
    "In the cell below, create a DataFrame `fruits` that looks like this:\n",
    "\n",
    "![](https://storage.googleapis.com/kaggle-media/learn/images/Ax3pp2A.png)"
   ]
  },
  {
   "cell_type": "code",
   "execution_count": 2,
   "id": "1519abde",
   "metadata": {
    "execution": {
     "iopub.execute_input": "2025-03-08T12:01:02.691843Z",
     "iopub.status.busy": "2025-03-08T12:01:02.691498Z",
     "iopub.status.idle": "2025-03-08T12:01:02.714119Z",
     "shell.execute_reply": "2025-03-08T12:01:02.713191Z"
    },
    "papermill": {
     "duration": 0.029186,
     "end_time": "2025-03-08T12:01:02.715582",
     "exception": false,
     "start_time": "2025-03-08T12:01:02.686396",
     "status": "completed"
    },
    "tags": []
   },
   "outputs": [
    {
     "data": {
      "application/javascript": [
       "parent.postMessage({\"jupyterEvent\": \"custom.exercise_interaction\", \"data\": {\"outcomeType\": 1, \"valueTowardsCompletion\": 0.16666666666666666, \"interactionType\": 1, \"questionType\": 1, \"questionId\": \"1_FruitDfCreation\", \"learnToolsVersion\": \"0.3.4\", \"failureMessage\": \"\", \"exceptionClass\": \"\", \"trace\": \"\"}}, \"*\")"
      ],
      "text/plain": [
       "<IPython.core.display.Javascript object>"
      ]
     },
     "metadata": {},
     "output_type": "display_data"
    },
    {
     "data": {
      "text/markdown": [
       "<span style=\"color:#33cc33\">Correct</span>"
      ],
      "text/plain": [
       "Correct"
      ]
     },
     "metadata": {},
     "output_type": "display_data"
    },
    {
     "data": {
      "text/html": [
       "<div>\n",
       "<style scoped>\n",
       "    .dataframe tbody tr th:only-of-type {\n",
       "        vertical-align: middle;\n",
       "    }\n",
       "\n",
       "    .dataframe tbody tr th {\n",
       "        vertical-align: top;\n",
       "    }\n",
       "\n",
       "    .dataframe thead th {\n",
       "        text-align: right;\n",
       "    }\n",
       "</style>\n",
       "<table border=\"1\" class=\"dataframe\">\n",
       "  <thead>\n",
       "    <tr style=\"text-align: right;\">\n",
       "      <th></th>\n",
       "      <th>Apples</th>\n",
       "      <th>Bananas</th>\n",
       "    </tr>\n",
       "  </thead>\n",
       "  <tbody>\n",
       "    <tr>\n",
       "      <th>0</th>\n",
       "      <td>30</td>\n",
       "      <td>21</td>\n",
       "    </tr>\n",
       "  </tbody>\n",
       "</table>\n",
       "</div>"
      ],
      "text/plain": [
       "   Apples  Bananas\n",
       "0      30       21"
      ]
     },
     "execution_count": 2,
     "metadata": {},
     "output_type": "execute_result"
    }
   ],
   "source": [
    "# Your code goes here. Create a dataframe matching the above diagram and assign it to the variable fruits.\n",
    "fruits = pd.DataFrame([[30, 21]], columns=['Apples', 'Bananas'])\n",
    "\n",
    "# Check your answer\n",
    "q1.check()\n",
    "fruits\n"
   ]
  },
  {
   "cell_type": "code",
   "execution_count": 3,
   "id": "37238c0e",
   "metadata": {
    "execution": {
     "iopub.execute_input": "2025-03-08T12:01:02.725788Z",
     "iopub.status.busy": "2025-03-08T12:01:02.725514Z",
     "iopub.status.idle": "2025-03-08T12:01:02.728654Z",
     "shell.execute_reply": "2025-03-08T12:01:02.727963Z"
    },
    "papermill": {
     "duration": 0.009651,
     "end_time": "2025-03-08T12:01:02.729917",
     "exception": false,
     "start_time": "2025-03-08T12:01:02.720266",
     "status": "completed"
    },
    "tags": []
   },
   "outputs": [],
   "source": [
    "#q1.hint()\n",
    "#q1.solution()"
   ]
  },
  {
   "cell_type": "markdown",
   "id": "8316c547",
   "metadata": {
    "papermill": {
     "duration": 0.004234,
     "end_time": "2025-03-08T12:01:02.738677",
     "exception": false,
     "start_time": "2025-03-08T12:01:02.734443",
     "status": "completed"
    },
    "tags": []
   },
   "source": [
    "## 2.\n",
    "\n",
    "Create a dataframe `fruit_sales` that matches the diagram below:\n",
    "\n",
    "![](https://storage.googleapis.com/kaggle-media/learn/images/CHPn7ZF.png)"
   ]
  },
  {
   "cell_type": "code",
   "execution_count": 4,
   "id": "72228815",
   "metadata": {
    "execution": {
     "iopub.execute_input": "2025-03-08T12:01:02.748583Z",
     "iopub.status.busy": "2025-03-08T12:01:02.748302Z",
     "iopub.status.idle": "2025-03-08T12:01:02.760030Z",
     "shell.execute_reply": "2025-03-08T12:01:02.759127Z"
    },
    "papermill": {
     "duration": 0.018239,
     "end_time": "2025-03-08T12:01:02.761409",
     "exception": false,
     "start_time": "2025-03-08T12:01:02.743170",
     "status": "completed"
    },
    "tags": []
   },
   "outputs": [
    {
     "data": {
      "application/javascript": [
       "parent.postMessage({\"jupyterEvent\": \"custom.exercise_interaction\", \"data\": {\"outcomeType\": 1, \"valueTowardsCompletion\": 0.16666666666666666, \"interactionType\": 1, \"questionType\": 1, \"questionId\": \"2_FruitSalesDfCreation\", \"learnToolsVersion\": \"0.3.4\", \"failureMessage\": \"\", \"exceptionClass\": \"\", \"trace\": \"\"}}, \"*\")"
      ],
      "text/plain": [
       "<IPython.core.display.Javascript object>"
      ]
     },
     "metadata": {},
     "output_type": "display_data"
    },
    {
     "data": {
      "text/markdown": [
       "<span style=\"color:#33cc33\">Correct</span>"
      ],
      "text/plain": [
       "Correct"
      ]
     },
     "metadata": {},
     "output_type": "display_data"
    },
    {
     "data": {
      "text/html": [
       "<div>\n",
       "<style scoped>\n",
       "    .dataframe tbody tr th:only-of-type {\n",
       "        vertical-align: middle;\n",
       "    }\n",
       "\n",
       "    .dataframe tbody tr th {\n",
       "        vertical-align: top;\n",
       "    }\n",
       "\n",
       "    .dataframe thead th {\n",
       "        text-align: right;\n",
       "    }\n",
       "</style>\n",
       "<table border=\"1\" class=\"dataframe\">\n",
       "  <thead>\n",
       "    <tr style=\"text-align: right;\">\n",
       "      <th></th>\n",
       "      <th>Apples</th>\n",
       "      <th>Bananas</th>\n",
       "    </tr>\n",
       "  </thead>\n",
       "  <tbody>\n",
       "    <tr>\n",
       "      <th>2017 Sales</th>\n",
       "      <td>35</td>\n",
       "      <td>21</td>\n",
       "    </tr>\n",
       "    <tr>\n",
       "      <th>2018 Sales</th>\n",
       "      <td>41</td>\n",
       "      <td>34</td>\n",
       "    </tr>\n",
       "  </tbody>\n",
       "</table>\n",
       "</div>"
      ],
      "text/plain": [
       "            Apples  Bananas\n",
       "2017 Sales      35       21\n",
       "2018 Sales      41       34"
      ]
     },
     "execution_count": 4,
     "metadata": {},
     "output_type": "execute_result"
    }
   ],
   "source": [
    "\n",
    "# Your code goes here. Create a dataframe matching the above diagram and assign it to the variable fruit_sales.\n",
    "fruit_sales = pd.DataFrame({'Apples': [35,41], 'Bananas': [21,34]}, index = ['2017 Sales','2018 Sales'])\n",
    "\n",
    "# Check your answer\n",
    "q2.check()\n",
    "fruit_sales"
   ]
  },
  {
   "cell_type": "code",
   "execution_count": 5,
   "id": "9e8da97c",
   "metadata": {
    "execution": {
     "iopub.execute_input": "2025-03-08T12:01:02.772128Z",
     "iopub.status.busy": "2025-03-08T12:01:02.771796Z",
     "iopub.status.idle": "2025-03-08T12:01:02.774922Z",
     "shell.execute_reply": "2025-03-08T12:01:02.774166Z"
    },
    "papermill": {
     "duration": 0.01001,
     "end_time": "2025-03-08T12:01:02.776269",
     "exception": false,
     "start_time": "2025-03-08T12:01:02.766259",
     "status": "completed"
    },
    "tags": []
   },
   "outputs": [],
   "source": [
    "# q2.hint()\n",
    "# q2.solution()"
   ]
  },
  {
   "cell_type": "markdown",
   "id": "a89aa363",
   "metadata": {
    "papermill": {
     "duration": 0.004608,
     "end_time": "2025-03-08T12:01:02.786046",
     "exception": false,
     "start_time": "2025-03-08T12:01:02.781438",
     "status": "completed"
    },
    "tags": []
   },
   "source": [
    "## 3.\n",
    "\n",
    "Create a variable `ingredients` with a Series that looks like:\n",
    "\n",
    "```\n",
    "Flour     4 cups\n",
    "Milk       1 cup\n",
    "Eggs     2 large\n",
    "Spam       1 can\n",
    "Name: Dinner, dtype: object\n",
    "```"
   ]
  },
  {
   "cell_type": "code",
   "execution_count": 6,
   "id": "7cd0dfd8",
   "metadata": {
    "execution": {
     "iopub.execute_input": "2025-03-08T12:01:02.796785Z",
     "iopub.status.busy": "2025-03-08T12:01:02.796457Z",
     "iopub.status.idle": "2025-03-08T12:01:02.806407Z",
     "shell.execute_reply": "2025-03-08T12:01:02.805585Z"
    },
    "papermill": {
     "duration": 0.017196,
     "end_time": "2025-03-08T12:01:02.808036",
     "exception": false,
     "start_time": "2025-03-08T12:01:02.790840",
     "status": "completed"
    },
    "tags": []
   },
   "outputs": [
    {
     "data": {
      "application/javascript": [
       "parent.postMessage({\"jupyterEvent\": \"custom.exercise_interaction\", \"data\": {\"outcomeType\": 1, \"valueTowardsCompletion\": 0.16666666666666666, \"interactionType\": 1, \"questionType\": 2, \"questionId\": \"3_RecipeSeriesCreation\", \"learnToolsVersion\": \"0.3.4\", \"failureMessage\": \"\", \"exceptionClass\": \"\", \"trace\": \"\"}}, \"*\")"
      ],
      "text/plain": [
       "<IPython.core.display.Javascript object>"
      ]
     },
     "metadata": {},
     "output_type": "display_data"
    },
    {
     "data": {
      "text/markdown": [
       "<span style=\"color:#33cc33\">Correct</span>"
      ],
      "text/plain": [
       "Correct"
      ]
     },
     "metadata": {},
     "output_type": "display_data"
    },
    {
     "data": {
      "text/plain": [
       "Flour     4 cups\n",
       "Milk       1 cup\n",
       "Eggs     2 large\n",
       "Spam       1 can\n",
       "Name: Dinner, dtype: object"
      ]
     },
     "execution_count": 6,
     "metadata": {},
     "output_type": "execute_result"
    }
   ],
   "source": [
    "\n",
    "ingredients = pd.Series (['4 cups','1 cup','2 large','1 can'],index=['Flour','Milk','Eggs','Spam'], name='Dinner')\n",
    "\n",
    "# Check your answer\n",
    "q3.check()\n",
    "ingredients"
   ]
  },
  {
   "cell_type": "code",
   "execution_count": 7,
   "id": "89289553",
   "metadata": {
    "execution": {
     "iopub.execute_input": "2025-03-08T12:01:02.820146Z",
     "iopub.status.busy": "2025-03-08T12:01:02.819840Z",
     "iopub.status.idle": "2025-03-08T12:01:02.823252Z",
     "shell.execute_reply": "2025-03-08T12:01:02.822407Z"
    },
    "papermill": {
     "duration": 0.011099,
     "end_time": "2025-03-08T12:01:02.824765",
     "exception": false,
     "start_time": "2025-03-08T12:01:02.813666",
     "status": "completed"
    },
    "tags": []
   },
   "outputs": [],
   "source": [
    "#q3.hint()\n",
    "#q3.solution()"
   ]
  },
  {
   "cell_type": "markdown",
   "id": "4abb0ce6",
   "metadata": {
    "papermill": {
     "duration": 0.005135,
     "end_time": "2025-03-08T12:01:02.835454",
     "exception": false,
     "start_time": "2025-03-08T12:01:02.830319",
     "status": "completed"
    },
    "tags": []
   },
   "source": [
    "## 4.\n",
    "\n",
    "Read the following csv dataset of wine reviews into a DataFrame called `reviews`:\n",
    "\n",
    "![](https://storage.googleapis.com/kaggle-media/learn/images/74RCZtU.png)\n",
    "\n",
    "The filepath to the csv file is `../input/wine-reviews/winemag-data_first150k.csv`. The first few lines look like:\n",
    "\n",
    "```\n",
    ",country,description,designation,points,price,province,region_1,region_2,variety,winery\n",
    "0,US,\"This tremendous 100% varietal wine[...]\",Martha's Vineyard,96,235.0,California,Napa Valley,Napa,Cabernet Sauvignon,Heitz\n",
    "1,Spain,\"Ripe aromas of fig, blackberry and[...]\",Carodorum Selección Especial Reserva,96,110.0,Northern Spain,Toro,,Tinta de Toro,Bodega Carmen Rodríguez\n",
    "```"
   ]
  },
  {
   "cell_type": "code",
   "execution_count": 8,
   "id": "c902636f",
   "metadata": {
    "execution": {
     "iopub.execute_input": "2025-03-08T12:01:02.847393Z",
     "iopub.status.busy": "2025-03-08T12:01:02.847051Z",
     "iopub.status.idle": "2025-03-08T12:01:03.749514Z",
     "shell.execute_reply": "2025-03-08T12:01:03.748554Z"
    },
    "papermill": {
     "duration": 0.910289,
     "end_time": "2025-03-08T12:01:03.751085",
     "exception": false,
     "start_time": "2025-03-08T12:01:02.840796",
     "status": "completed"
    },
    "tags": []
   },
   "outputs": [
    {
     "data": {
      "application/javascript": [
       "parent.postMessage({\"jupyterEvent\": \"custom.exercise_interaction\", \"data\": {\"outcomeType\": 1, \"valueTowardsCompletion\": 0.16666666666666666, \"interactionType\": 1, \"questionType\": 1, \"questionId\": \"4_ReadWineCsv\", \"learnToolsVersion\": \"0.3.4\", \"failureMessage\": \"\", \"exceptionClass\": \"\", \"trace\": \"\"}}, \"*\")"
      ],
      "text/plain": [
       "<IPython.core.display.Javascript object>"
      ]
     },
     "metadata": {},
     "output_type": "display_data"
    },
    {
     "data": {
      "text/markdown": [
       "<span style=\"color:#33cc33\">Correct</span>"
      ],
      "text/plain": [
       "Correct"
      ]
     },
     "metadata": {},
     "output_type": "display_data"
    }
   ],
   "source": [
    "\n",
    "reviews = pd.read_csv(\"../input/wine-reviews/winemag-data_first150k.csv\", index_col=0)\n",
    "\n",
    "# Check your answer\n",
    "q4.check()"
   ]
  },
  {
   "cell_type": "code",
   "execution_count": 9,
   "id": "3907ebaa",
   "metadata": {
    "execution": {
     "iopub.execute_input": "2025-03-08T12:01:03.763015Z",
     "iopub.status.busy": "2025-03-08T12:01:03.762689Z",
     "iopub.status.idle": "2025-03-08T12:01:03.765957Z",
     "shell.execute_reply": "2025-03-08T12:01:03.765174Z"
    },
    "papermill": {
     "duration": 0.010657,
     "end_time": "2025-03-08T12:01:03.767360",
     "exception": false,
     "start_time": "2025-03-08T12:01:03.756703",
     "status": "completed"
    },
    "tags": []
   },
   "outputs": [],
   "source": [
    "#q4.hint()\n",
    "#q4.solution()"
   ]
  },
  {
   "cell_type": "markdown",
   "id": "2d1755ff",
   "metadata": {
    "papermill": {
     "duration": 0.005106,
     "end_time": "2025-03-08T12:01:03.777948",
     "exception": false,
     "start_time": "2025-03-08T12:01:03.772842",
     "status": "completed"
    },
    "tags": []
   },
   "source": [
    "## 5.\n",
    "\n",
    "Run the cell below to create and display a DataFrame called `animals`:"
   ]
  },
  {
   "cell_type": "code",
   "execution_count": 10,
   "id": "90fac23d",
   "metadata": {
    "execution": {
     "iopub.execute_input": "2025-03-08T12:01:03.789713Z",
     "iopub.status.busy": "2025-03-08T12:01:03.789369Z",
     "iopub.status.idle": "2025-03-08T12:01:03.804426Z",
     "shell.execute_reply": "2025-03-08T12:01:03.803378Z"
    },
    "papermill": {
     "duration": 0.022766,
     "end_time": "2025-03-08T12:01:03.806012",
     "exception": false,
     "start_time": "2025-03-08T12:01:03.783246",
     "status": "completed"
    },
    "tags": []
   },
   "outputs": [
    {
     "name": "stdout",
     "output_type": "stream",
     "text": [
      "None\n"
     ]
    }
   ],
   "source": [
    "\n",
    "animals = pd.DataFrame({'Cows': [12, 20], 'Goats': [22, 19]}, index=['Year 1', 'Year 2'])\n",
    "df = animals.to_csv('cows_and_goats.csv')\n",
    "print(df)"
   ]
  },
  {
   "cell_type": "markdown",
   "id": "7e399c7c",
   "metadata": {
    "papermill": {
     "duration": 0.005318,
     "end_time": "2025-03-08T12:01:03.817111",
     "exception": false,
     "start_time": "2025-03-08T12:01:03.811793",
     "status": "completed"
    },
    "tags": []
   },
   "source": [
    "In the cell below, write code to save this DataFrame to disk as a csv file with the name `cows_and_goats.csv`."
   ]
  },
  {
   "cell_type": "code",
   "execution_count": 11,
   "id": "d4036380",
   "metadata": {
    "execution": {
     "iopub.execute_input": "2025-03-08T12:01:03.829155Z",
     "iopub.status.busy": "2025-03-08T12:01:03.828786Z",
     "iopub.status.idle": "2025-03-08T12:01:03.837995Z",
     "shell.execute_reply": "2025-03-08T12:01:03.837167Z"
    },
    "papermill": {
     "duration": 0.016922,
     "end_time": "2025-03-08T12:01:03.839452",
     "exception": false,
     "start_time": "2025-03-08T12:01:03.822530",
     "status": "completed"
    },
    "tags": []
   },
   "outputs": [
    {
     "data": {
      "application/javascript": [
       "parent.postMessage({\"jupyterEvent\": \"custom.exercise_interaction\", \"data\": {\"outcomeType\": 1, \"valueTowardsCompletion\": 0.16666666666666666, \"interactionType\": 1, \"questionType\": 2, \"questionId\": \"5_SaveAnimalsCsv\", \"learnToolsVersion\": \"0.3.4\", \"failureMessage\": \"\", \"exceptionClass\": \"\", \"trace\": \"\"}}, \"*\")"
      ],
      "text/plain": [
       "<IPython.core.display.Javascript object>"
      ]
     },
     "metadata": {},
     "output_type": "display_data"
    },
    {
     "data": {
      "text/markdown": [
       "<span style=\"color:#33cc33\">Correct</span>"
      ],
      "text/plain": [
       "Correct"
      ]
     },
     "metadata": {},
     "output_type": "display_data"
    }
   ],
   "source": [
    "# Your code goes here\n",
    "\n",
    "# Check your answer\n",
    "q5.check()"
   ]
  },
  {
   "cell_type": "code",
   "execution_count": 12,
   "id": "39046405",
   "metadata": {
    "execution": {
     "iopub.execute_input": "2025-03-08T12:01:03.852345Z",
     "iopub.status.busy": "2025-03-08T12:01:03.851998Z",
     "iopub.status.idle": "2025-03-08T12:01:03.855454Z",
     "shell.execute_reply": "2025-03-08T12:01:03.854560Z"
    },
    "papermill": {
     "duration": 0.011387,
     "end_time": "2025-03-08T12:01:03.856798",
     "exception": false,
     "start_time": "2025-03-08T12:01:03.845411",
     "status": "completed"
    },
    "tags": []
   },
   "outputs": [],
   "source": [
    "#q5.hint()\n",
    "#q5.solution()"
   ]
  },
  {
   "cell_type": "markdown",
   "id": "ac0d6c8c",
   "metadata": {
    "papermill": {
     "duration": 0.005557,
     "end_time": "2025-03-08T12:01:03.868150",
     "exception": false,
     "start_time": "2025-03-08T12:01:03.862593",
     "status": "completed"
    },
    "tags": []
   },
   "source": [
    "# Keep going\n",
    "\n",
    "Move on to learn about **[indexing, selecting and assigning](https://www.kaggle.com/residentmario/indexing-selecting-assigning)**."
   ]
  },
  {
   "cell_type": "markdown",
   "id": "591974ae",
   "metadata": {
    "papermill": {
     "duration": 0.005334,
     "end_time": "2025-03-08T12:01:03.879290",
     "exception": false,
     "start_time": "2025-03-08T12:01:03.873956",
     "status": "completed"
    },
    "tags": []
   },
   "source": [
    "---\n",
    "\n",
    "\n",
    "\n",
    "\n",
    "*Have questions or comments? Visit the [course discussion forum](https://www.kaggle.com/learn/pandas/discussion) to chat with other learners.*"
   ]
  }
 ],
 "metadata": {
  "kaggle": {
   "accelerator": "none",
   "dataSources": [
    {
     "datasetId": 655,
     "sourceId": 1252,
     "sourceType": "datasetVersion"
    },
    {
     "datasetId": 2321,
     "sourceId": 3919,
     "sourceType": "datasetVersion"
    },
    {
     "datasetId": 2894,
     "sourceId": 4877,
     "sourceType": "datasetVersion"
    },
    {
     "datasetId": 3491,
     "sourceId": 5624,
     "sourceType": "datasetVersion"
    },
    {
     "datasetId": 1442,
     "sourceId": 8172,
     "sourceType": "datasetVersion"
    },
    {
     "datasetId": 9366,
     "sourceId": 13206,
     "sourceType": "datasetVersion"
    },
    {
     "datasetId": 179555,
     "sourceId": 403916,
     "sourceType": "datasetVersion"
    },
    {
     "datasetId": 4549,
     "sourceId": 466349,
     "sourceType": "datasetVersion"
    },
    {
     "datasetId": 2478,
     "sourceId": 1151655,
     "sourceType": "datasetVersion"
    },
    {
     "datasetId": 10128,
     "sourceId": 5438389,
     "sourceType": "datasetVersion"
    }
   ],
   "isGpuEnabled": false,
   "isInternetEnabled": false,
   "language": "python",
   "sourceType": "notebook"
  },
  "kernelspec": {
   "display_name": "Python 3",
   "language": "python",
   "name": "python3"
  },
  "language_info": {
   "codemirror_mode": {
    "name": "ipython",
    "version": 3
   },
   "file_extension": ".py",
   "mimetype": "text/x-python",
   "name": "python",
   "nbconvert_exporter": "python",
   "pygments_lexer": "ipython3",
   "version": "3.10.12"
  },
  "papermill": {
   "default_parameters": {},
   "duration": 6.797691,
   "end_time": "2025-03-08T12:01:04.403456",
   "environment_variables": {},
   "exception": null,
   "input_path": "__notebook__.ipynb",
   "output_path": "__notebook__.ipynb",
   "parameters": {},
   "start_time": "2025-03-08T12:00:57.605765",
   "version": "2.6.0"
  }
 },
 "nbformat": 4,
 "nbformat_minor": 5
}
