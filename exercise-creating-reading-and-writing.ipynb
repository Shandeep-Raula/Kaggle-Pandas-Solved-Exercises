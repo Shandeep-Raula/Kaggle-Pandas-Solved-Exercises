{
 "cells": [
  {
   "cell_type": "markdown",
   "id": "1fd97864",
   "metadata": {
    "papermill": {
     "duration": 0.009063,
     "end_time": "2025-03-08T11:57:00.189069",
     "exception": false,
     "start_time": "2025-03-08T11:57:00.180006",
     "status": "completed"
    },
    "tags": []
   },
   "source": [
    "**This notebook is an exercise in the [Pandas](https://www.kaggle.com/learn/pandas) course.  You can reference the tutorial at [this link](https://www.kaggle.com/residentmario/creating-reading-and-writing).**\n",
    "\n",
    "---\n"
   ]
  },
  {
   "cell_type": "markdown",
   "id": "7f92e2d9",
   "metadata": {
    "papermill": {
     "duration": 0.005281,
     "end_time": "2025-03-08T11:57:00.202139",
     "exception": false,
     "start_time": "2025-03-08T11:57:00.196858",
     "status": "completed"
    },
    "tags": []
   },
   "source": [
    "# Introduction\n",
    "\n",
    "The first step in most data analytics projects is reading the data file. In this exercise, you'll create Series and DataFrame objects, both by hand and by reading data files.\n",
    "\n",
    "Run the code cell below to load libraries you will need (including code to check your answers)."
   ]
  },
  {
   "cell_type": "code",
   "execution_count": 1,
   "id": "598becc7",
   "metadata": {
    "execution": {
     "iopub.execute_input": "2025-03-08T11:57:00.212709Z",
     "iopub.status.busy": "2025-03-08T11:57:00.212249Z",
     "iopub.status.idle": "2025-03-08T11:57:02.887534Z",
     "shell.execute_reply": "2025-03-08T11:57:02.886231Z"
    },
    "papermill": {
     "duration": 2.682534,
     "end_time": "2025-03-08T11:57:02.889312",
     "exception": false,
     "start_time": "2025-03-08T11:57:00.206778",
     "status": "completed"
    },
    "tags": []
   },
   "outputs": [
    {
     "name": "stdout",
     "output_type": "stream",
     "text": [
      "Setup complete.\n"
     ]
    }
   ],
   "source": [
    "import pandas as pd\n",
    "pd.set_option('display.max_rows', 5)\n",
    "from learntools.core import binder; binder.bind(globals())\n",
    "from learntools.pandas.creating_reading_and_writing import *\n",
    "print(\"Setup complete.\")"
   ]
  },
  {
   "cell_type": "markdown",
   "id": "1b7592b5",
   "metadata": {
    "papermill": {
     "duration": 0.004276,
     "end_time": "2025-03-08T11:57:02.898279",
     "exception": false,
     "start_time": "2025-03-08T11:57:02.894003",
     "status": "completed"
    },
    "tags": []
   },
   "source": [
    "# Exercises"
   ]
  },
  {
   "cell_type": "markdown",
   "id": "e7ae71c2",
   "metadata": {
    "papermill": {
     "duration": 0.004076,
     "end_time": "2025-03-08T11:57:02.906697",
     "exception": false,
     "start_time": "2025-03-08T11:57:02.902621",
     "status": "completed"
    },
    "tags": []
   },
   "source": [
    "## 1.\n",
    "\n",
    "In the cell below, create a DataFrame `fruits` that looks like this:\n",
    "\n",
    "![](https://storage.googleapis.com/kaggle-media/learn/images/Ax3pp2A.png)"
   ]
  },
  {
   "cell_type": "code",
   "execution_count": 2,
   "id": "9b190d8d",
   "metadata": {
    "execution": {
     "iopub.execute_input": "2025-03-08T11:57:02.917024Z",
     "iopub.status.busy": "2025-03-08T11:57:02.916670Z",
     "iopub.status.idle": "2025-03-08T11:57:02.941927Z",
     "shell.execute_reply": "2025-03-08T11:57:02.940691Z"
    },
    "papermill": {
     "duration": 0.032639,
     "end_time": "2025-03-08T11:57:02.943793",
     "exception": false,
     "start_time": "2025-03-08T11:57:02.911154",
     "status": "completed"
    },
    "tags": []
   },
   "outputs": [
    {
     "data": {
      "application/javascript": [
       "parent.postMessage({\"jupyterEvent\": \"custom.exercise_interaction\", \"data\": {\"outcomeType\": 1, \"valueTowardsCompletion\": 0.16666666666666666, \"interactionType\": 1, \"questionType\": 1, \"questionId\": \"1_FruitDfCreation\", \"learnToolsVersion\": \"0.3.4\", \"failureMessage\": \"\", \"exceptionClass\": \"\", \"trace\": \"\"}}, \"*\")"
      ],
      "text/plain": [
       "<IPython.core.display.Javascript object>"
      ]
     },
     "metadata": {},
     "output_type": "display_data"
    },
    {
     "data": {
      "text/markdown": [
       "<span style=\"color:#33cc33\">Correct</span>"
      ],
      "text/plain": [
       "Correct"
      ]
     },
     "metadata": {},
     "output_type": "display_data"
    },
    {
     "data": {
      "text/html": [
       "<div>\n",
       "<style scoped>\n",
       "    .dataframe tbody tr th:only-of-type {\n",
       "        vertical-align: middle;\n",
       "    }\n",
       "\n",
       "    .dataframe tbody tr th {\n",
       "        vertical-align: top;\n",
       "    }\n",
       "\n",
       "    .dataframe thead th {\n",
       "        text-align: right;\n",
       "    }\n",
       "</style>\n",
       "<table border=\"1\" class=\"dataframe\">\n",
       "  <thead>\n",
       "    <tr style=\"text-align: right;\">\n",
       "      <th></th>\n",
       "      <th>Apples</th>\n",
       "      <th>Bananas</th>\n",
       "    </tr>\n",
       "  </thead>\n",
       "  <tbody>\n",
       "    <tr>\n",
       "      <th>0</th>\n",
       "      <td>30</td>\n",
       "      <td>21</td>\n",
       "    </tr>\n",
       "  </tbody>\n",
       "</table>\n",
       "</div>"
      ],
      "text/plain": [
       "   Apples  Bananas\n",
       "0      30       21"
      ]
     },
     "execution_count": 2,
     "metadata": {},
     "output_type": "execute_result"
    }
   ],
   "source": [
    "# Your code goes here. Create a dataframe matching the above diagram and assign it to the variable fruits.\n",
    "fruits = pd.DataFrame([[30, 21]], columns=['Apples', 'Bananas'])\n",
    "\n",
    "# Check your answer\n",
    "q1.check()\n",
    "fruits\n"
   ]
  },
  {
   "cell_type": "code",
   "execution_count": 3,
   "id": "8e232f0b",
   "metadata": {
    "execution": {
     "iopub.execute_input": "2025-03-08T11:57:02.955316Z",
     "iopub.status.busy": "2025-03-08T11:57:02.954966Z",
     "iopub.status.idle": "2025-03-08T11:57:02.958915Z",
     "shell.execute_reply": "2025-03-08T11:57:02.957967Z"
    },
    "papermill": {
     "duration": 0.011862,
     "end_time": "2025-03-08T11:57:02.960700",
     "exception": false,
     "start_time": "2025-03-08T11:57:02.948838",
     "status": "completed"
    },
    "tags": []
   },
   "outputs": [],
   "source": [
    "#q1.hint()\n",
    "#q1.solution()"
   ]
  },
  {
   "cell_type": "markdown",
   "id": "105c0204",
   "metadata": {
    "papermill": {
     "duration": 0.00456,
     "end_time": "2025-03-08T11:57:02.970294",
     "exception": false,
     "start_time": "2025-03-08T11:57:02.965734",
     "status": "completed"
    },
    "tags": []
   },
   "source": [
    "## 2.\n",
    "\n",
    "Create a dataframe `fruit_sales` that matches the diagram below:\n",
    "\n",
    "![](https://storage.googleapis.com/kaggle-media/learn/images/CHPn7ZF.png)"
   ]
  },
  {
   "cell_type": "code",
   "execution_count": 4,
   "id": "d124cb6e",
   "metadata": {
    "execution": {
     "iopub.execute_input": "2025-03-08T11:57:02.982112Z",
     "iopub.status.busy": "2025-03-08T11:57:02.981627Z",
     "iopub.status.idle": "2025-03-08T11:57:02.990236Z",
     "shell.execute_reply": "2025-03-08T11:57:02.989297Z"
    },
    "papermill": {
     "duration": 0.016483,
     "end_time": "2025-03-08T11:57:02.991779",
     "exception": false,
     "start_time": "2025-03-08T11:57:02.975296",
     "status": "completed"
    },
    "tags": []
   },
   "outputs": [
    {
     "data": {
      "application/javascript": [
       "parent.postMessage({\"jupyterEvent\": \"custom.exercise_interaction\", \"data\": {\"outcomeType\": 4, \"interactionType\": 1, \"questionType\": 1, \"questionId\": \"2_FruitSalesDfCreation\", \"learnToolsVersion\": \"0.3.4\", \"valueTowardsCompletion\": 0.0, \"failureMessage\": \"\", \"exceptionClass\": \"\", \"trace\": \"\"}}, \"*\")"
      ],
      "text/plain": [
       "<IPython.core.display.Javascript object>"
      ]
     },
     "metadata": {},
     "output_type": "display_data"
    },
    {
     "data": {
      "text/markdown": [
       "<span style=\"color:#ccaa33\">Check:</span> When you've updated the starter code, `check()` will tell you whether your code is correct. You need to update the code that creates variable `fruit_sales`"
      ],
      "text/plain": [
       "Check: When you've updated the starter code, `check()` will tell you whether your code is correct. You need to update the code that creates variable `fruit_sales`"
      ]
     },
     "metadata": {},
     "output_type": "display_data"
    },
    {
     "data": {
      "text/markdown": [],
      "text/plain": [
       "<learntools.core.constants.PlaceholderValue at 0x7c73fe3fef20>"
      ]
     },
     "execution_count": 4,
     "metadata": {},
     "output_type": "execute_result"
    }
   ],
   "source": [
    "# Your code goes here. Create a dataframe matching the above diagram and assign it to the variable fruit_sales.\n",
    "fruit_sales = ____\n",
    "\n",
    "# Check your answer\n",
    "q2.check()\n",
    "fruit_sales"
   ]
  },
  {
   "cell_type": "code",
   "execution_count": 5,
   "id": "46e06f48",
   "metadata": {
    "execution": {
     "iopub.execute_input": "2025-03-08T11:57:03.003871Z",
     "iopub.status.busy": "2025-03-08T11:57:03.003501Z",
     "iopub.status.idle": "2025-03-08T11:57:03.013792Z",
     "shell.execute_reply": "2025-03-08T11:57:03.012875Z"
    },
    "papermill": {
     "duration": 0.018317,
     "end_time": "2025-03-08T11:57:03.015404",
     "exception": false,
     "start_time": "2025-03-08T11:57:02.997087",
     "status": "completed"
    },
    "tags": []
   },
   "outputs": [
    {
     "data": {
      "application/javascript": [
       "parent.postMessage({\"jupyterEvent\": \"custom.exercise_interaction\", \"data\": {\"interactionType\": 2, \"questionType\": 1, \"questionId\": \"2_FruitSalesDfCreation\", \"learnToolsVersion\": \"0.3.4\", \"valueTowardsCompletion\": 0.0, \"failureMessage\": \"\", \"exceptionClass\": \"\", \"trace\": \"\", \"outcomeType\": 4}}, \"*\")"
      ],
      "text/plain": [
       "<IPython.core.display.Javascript object>"
      ]
     },
     "metadata": {},
     "output_type": "display_data"
    },
    {
     "data": {
      "text/markdown": [
       "<span style=\"color:#3366cc\">Hint:</span> Set the row labels in the DataFrame by using the `index` parameter in `pd.DataFrame`."
      ],
      "text/plain": [
       "Hint: Set the row labels in the DataFrame by using the `index` parameter in `pd.DataFrame`."
      ]
     },
     "metadata": {},
     "output_type": "display_data"
    },
    {
     "data": {
      "application/javascript": [
       "parent.postMessage({\"jupyterEvent\": \"custom.exercise_interaction\", \"data\": {\"interactionType\": 3, \"questionType\": 1, \"questionId\": \"2_FruitSalesDfCreation\", \"learnToolsVersion\": \"0.3.4\", \"valueTowardsCompletion\": 0.0, \"failureMessage\": \"\", \"exceptionClass\": \"\", \"trace\": \"\", \"outcomeType\": 4}}, \"*\")"
      ],
      "text/plain": [
       "<IPython.core.display.Javascript object>"
      ]
     },
     "metadata": {},
     "output_type": "display_data"
    },
    {
     "data": {
      "text/markdown": [
       "<span style=\"color:#33cc99\">Solution:</span> \n",
       "```python\n",
       "fruit_sales = pd.DataFrame([[35, 21], [41, 34]], columns=['Apples', 'Bananas'],\n",
       "                index=['2017 Sales', '2018 Sales'])\n",
       "```"
      ],
      "text/plain": [
       "Solution: \n",
       "```python\n",
       "fruit_sales = pd.DataFrame([[35, 21], [41, 34]], columns=['Apples', 'Bananas'],\n",
       "                index=['2017 Sales', '2018 Sales'])\n",
       "```"
      ]
     },
     "metadata": {},
     "output_type": "display_data"
    }
   ],
   "source": [
    "q2.hint()\n",
    "q2.solution()"
   ]
  },
  {
   "cell_type": "markdown",
   "id": "876adb89",
   "metadata": {
    "papermill": {
     "duration": 0.005383,
     "end_time": "2025-03-08T11:57:03.026550",
     "exception": false,
     "start_time": "2025-03-08T11:57:03.021167",
     "status": "completed"
    },
    "tags": []
   },
   "source": [
    "## 3.\n",
    "\n",
    "Create a variable `ingredients` with a Series that looks like:\n",
    "\n",
    "```\n",
    "Flour     4 cups\n",
    "Milk       1 cup\n",
    "Eggs     2 large\n",
    "Spam       1 can\n",
    "Name: Dinner, dtype: object\n",
    "```"
   ]
  },
  {
   "cell_type": "code",
   "execution_count": 6,
   "id": "d7acc676",
   "metadata": {
    "execution": {
     "iopub.execute_input": "2025-03-08T11:57:03.039186Z",
     "iopub.status.busy": "2025-03-08T11:57:03.038802Z",
     "iopub.status.idle": "2025-03-08T11:57:03.049857Z",
     "shell.execute_reply": "2025-03-08T11:57:03.048822Z"
    },
    "papermill": {
     "duration": 0.019486,
     "end_time": "2025-03-08T11:57:03.051589",
     "exception": false,
     "start_time": "2025-03-08T11:57:03.032103",
     "status": "completed"
    },
    "tags": []
   },
   "outputs": [
    {
     "data": {
      "application/javascript": [
       "parent.postMessage({\"jupyterEvent\": \"custom.exercise_interaction\", \"data\": {\"outcomeType\": 1, \"valueTowardsCompletion\": 0.16666666666666666, \"interactionType\": 1, \"questionType\": 2, \"questionId\": \"3_RecipeSeriesCreation\", \"learnToolsVersion\": \"0.3.4\", \"failureMessage\": \"\", \"exceptionClass\": \"\", \"trace\": \"\"}}, \"*\")"
      ],
      "text/plain": [
       "<IPython.core.display.Javascript object>"
      ]
     },
     "metadata": {},
     "output_type": "display_data"
    },
    {
     "data": {
      "text/markdown": [
       "<span style=\"color:#33cc33\">Correct</span>"
      ],
      "text/plain": [
       "Correct"
      ]
     },
     "metadata": {},
     "output_type": "display_data"
    },
    {
     "data": {
      "text/plain": [
       "Flour     4 cups\n",
       "Milk       1 cup\n",
       "Eggs     2 large\n",
       "Spam       1 can\n",
       "Name: Dinner, dtype: object"
      ]
     },
     "execution_count": 6,
     "metadata": {},
     "output_type": "execute_result"
    }
   ],
   "source": [
    "\n",
    "ingredients = pd.Series (['4 cups','1 cup','2 large','1 can'],index=['Flour','Milk','Eggs','Spam'], name='Dinner')\n",
    "\n",
    "# Check your answer\n",
    "q3.check()\n",
    "ingredients"
   ]
  },
  {
   "cell_type": "code",
   "execution_count": 7,
   "id": "3be7eb98",
   "metadata": {
    "execution": {
     "iopub.execute_input": "2025-03-08T11:57:03.064990Z",
     "iopub.status.busy": "2025-03-08T11:57:03.064567Z",
     "iopub.status.idle": "2025-03-08T11:57:03.068455Z",
     "shell.execute_reply": "2025-03-08T11:57:03.067433Z"
    },
    "papermill": {
     "duration": 0.012431,
     "end_time": "2025-03-08T11:57:03.070035",
     "exception": false,
     "start_time": "2025-03-08T11:57:03.057604",
     "status": "completed"
    },
    "tags": []
   },
   "outputs": [],
   "source": [
    "#q3.hint()\n",
    "#q3.solution()"
   ]
  },
  {
   "cell_type": "markdown",
   "id": "0a9ed00b",
   "metadata": {
    "papermill": {
     "duration": 0.005963,
     "end_time": "2025-03-08T11:57:03.082164",
     "exception": false,
     "start_time": "2025-03-08T11:57:03.076201",
     "status": "completed"
    },
    "tags": []
   },
   "source": [
    "## 4.\n",
    "\n",
    "Read the following csv dataset of wine reviews into a DataFrame called `reviews`:\n",
    "\n",
    "![](https://storage.googleapis.com/kaggle-media/learn/images/74RCZtU.png)\n",
    "\n",
    "The filepath to the csv file is `../input/wine-reviews/winemag-data_first150k.csv`. The first few lines look like:\n",
    "\n",
    "```\n",
    ",country,description,designation,points,price,province,region_1,region_2,variety,winery\n",
    "0,US,\"This tremendous 100% varietal wine[...]\",Martha's Vineyard,96,235.0,California,Napa Valley,Napa,Cabernet Sauvignon,Heitz\n",
    "1,Spain,\"Ripe aromas of fig, blackberry and[...]\",Carodorum Selección Especial Reserva,96,110.0,Northern Spain,Toro,,Tinta de Toro,Bodega Carmen Rodríguez\n",
    "```"
   ]
  },
  {
   "cell_type": "code",
   "execution_count": 8,
   "id": "7d730b62",
   "metadata": {
    "execution": {
     "iopub.execute_input": "2025-03-08T11:57:03.095247Z",
     "iopub.status.busy": "2025-03-08T11:57:03.094880Z",
     "iopub.status.idle": "2025-03-08T11:57:04.045284Z",
     "shell.execute_reply": "2025-03-08T11:57:04.044236Z"
    },
    "papermill": {
     "duration": 0.958819,
     "end_time": "2025-03-08T11:57:04.046926",
     "exception": false,
     "start_time": "2025-03-08T11:57:03.088107",
     "status": "completed"
    },
    "tags": []
   },
   "outputs": [
    {
     "data": {
      "application/javascript": [
       "parent.postMessage({\"jupyterEvent\": \"custom.exercise_interaction\", \"data\": {\"outcomeType\": 1, \"valueTowardsCompletion\": 0.16666666666666666, \"interactionType\": 1, \"questionType\": 1, \"questionId\": \"4_ReadWineCsv\", \"learnToolsVersion\": \"0.3.4\", \"failureMessage\": \"\", \"exceptionClass\": \"\", \"trace\": \"\"}}, \"*\")"
      ],
      "text/plain": [
       "<IPython.core.display.Javascript object>"
      ]
     },
     "metadata": {},
     "output_type": "display_data"
    },
    {
     "data": {
      "text/markdown": [
       "<span style=\"color:#33cc33\">Correct</span>"
      ],
      "text/plain": [
       "Correct"
      ]
     },
     "metadata": {},
     "output_type": "display_data"
    }
   ],
   "source": [
    "\n",
    "reviews = pd.read_csv(\"../input/wine-reviews/winemag-data_first150k.csv\", index_col=0)\n",
    "\n",
    "# Check your answer\n",
    "q4.check()"
   ]
  },
  {
   "cell_type": "code",
   "execution_count": 9,
   "id": "a28ba8ad",
   "metadata": {
    "execution": {
     "iopub.execute_input": "2025-03-08T11:57:04.060392Z",
     "iopub.status.busy": "2025-03-08T11:57:04.059996Z",
     "iopub.status.idle": "2025-03-08T11:57:04.063769Z",
     "shell.execute_reply": "2025-03-08T11:57:04.062893Z"
    },
    "papermill": {
     "duration": 0.012166,
     "end_time": "2025-03-08T11:57:04.065300",
     "exception": false,
     "start_time": "2025-03-08T11:57:04.053134",
     "status": "completed"
    },
    "tags": []
   },
   "outputs": [],
   "source": [
    "#q4.hint()\n",
    "#q4.solution()"
   ]
  },
  {
   "cell_type": "markdown",
   "id": "ae9ae971",
   "metadata": {
    "papermill": {
     "duration": 0.005841,
     "end_time": "2025-03-08T11:57:04.077430",
     "exception": false,
     "start_time": "2025-03-08T11:57:04.071589",
     "status": "completed"
    },
    "tags": []
   },
   "source": [
    "## 5.\n",
    "\n",
    "Run the cell below to create and display a DataFrame called `animals`:"
   ]
  },
  {
   "cell_type": "code",
   "execution_count": 10,
   "id": "3a2d6325",
   "metadata": {
    "execution": {
     "iopub.execute_input": "2025-03-08T11:57:04.090949Z",
     "iopub.status.busy": "2025-03-08T11:57:04.090595Z",
     "iopub.status.idle": "2025-03-08T11:57:04.099360Z",
     "shell.execute_reply": "2025-03-08T11:57:04.098397Z"
    },
    "papermill": {
     "duration": 0.017457,
     "end_time": "2025-03-08T11:57:04.100981",
     "exception": false,
     "start_time": "2025-03-08T11:57:04.083524",
     "status": "completed"
    },
    "tags": []
   },
   "outputs": [
    {
     "data": {
      "text/html": [
       "<div>\n",
       "<style scoped>\n",
       "    .dataframe tbody tr th:only-of-type {\n",
       "        vertical-align: middle;\n",
       "    }\n",
       "\n",
       "    .dataframe tbody tr th {\n",
       "        vertical-align: top;\n",
       "    }\n",
       "\n",
       "    .dataframe thead th {\n",
       "        text-align: right;\n",
       "    }\n",
       "</style>\n",
       "<table border=\"1\" class=\"dataframe\">\n",
       "  <thead>\n",
       "    <tr style=\"text-align: right;\">\n",
       "      <th></th>\n",
       "      <th>Cows</th>\n",
       "      <th>Goats</th>\n",
       "    </tr>\n",
       "  </thead>\n",
       "  <tbody>\n",
       "    <tr>\n",
       "      <th>Year 1</th>\n",
       "      <td>12</td>\n",
       "      <td>22</td>\n",
       "    </tr>\n",
       "    <tr>\n",
       "      <th>Year 2</th>\n",
       "      <td>20</td>\n",
       "      <td>19</td>\n",
       "    </tr>\n",
       "  </tbody>\n",
       "</table>\n",
       "</div>"
      ],
      "text/plain": [
       "        Cows  Goats\n",
       "Year 1    12     22\n",
       "Year 2    20     19"
      ]
     },
     "execution_count": 10,
     "metadata": {},
     "output_type": "execute_result"
    }
   ],
   "source": [
    "\n",
    "animals = pd.DataFrame({'Cows': [12, 20], 'Goats': [22, 19]}, index=['Year 1', 'Year 2'])\n",
    "animals"
   ]
  },
  {
   "cell_type": "markdown",
   "id": "334a69dc",
   "metadata": {
    "papermill": {
     "duration": 0.006042,
     "end_time": "2025-03-08T11:57:04.113571",
     "exception": false,
     "start_time": "2025-03-08T11:57:04.107529",
     "status": "completed"
    },
    "tags": []
   },
   "source": [
    "In the cell below, write code to save this DataFrame to disk as a csv file with the name `cows_and_goats.csv`."
   ]
  },
  {
   "cell_type": "code",
   "execution_count": 11,
   "id": "5f6ab3cb",
   "metadata": {
    "execution": {
     "iopub.execute_input": "2025-03-08T11:57:04.127764Z",
     "iopub.status.busy": "2025-03-08T11:57:04.127404Z",
     "iopub.status.idle": "2025-03-08T11:57:04.135079Z",
     "shell.execute_reply": "2025-03-08T11:57:04.134027Z"
    },
    "papermill": {
     "duration": 0.016777,
     "end_time": "2025-03-08T11:57:04.136662",
     "exception": false,
     "start_time": "2025-03-08T11:57:04.119885",
     "status": "completed"
    },
    "tags": []
   },
   "outputs": [
    {
     "data": {
      "application/javascript": [
       "parent.postMessage({\"jupyterEvent\": \"custom.exercise_interaction\", \"data\": {\"outcomeType\": 2, \"failureMessage\": \"Expected file to exist with name `cows_and_goats.csv`\", \"interactionType\": 1, \"questionType\": 2, \"questionId\": \"5_SaveAnimalsCsv\", \"learnToolsVersion\": \"0.3.4\", \"valueTowardsCompletion\": 0.0, \"exceptionClass\": \"\", \"trace\": \"\"}}, \"*\")"
      ],
      "text/plain": [
       "<IPython.core.display.Javascript object>"
      ]
     },
     "metadata": {},
     "output_type": "display_data"
    },
    {
     "data": {
      "text/markdown": [
       "<span style=\"color:#cc3333\">Incorrect:</span> Expected file to exist with name `cows_and_goats.csv`"
      ],
      "text/plain": [
       "Incorrect: Expected file to exist with name `cows_and_goats.csv`"
      ]
     },
     "metadata": {},
     "output_type": "display_data"
    }
   ],
   "source": [
    "# Your code goes here\n",
    "\n",
    "# Check your answer\n",
    "q5.check()"
   ]
  },
  {
   "cell_type": "code",
   "execution_count": 12,
   "id": "0efb62fc",
   "metadata": {
    "execution": {
     "iopub.execute_input": "2025-03-08T11:57:04.151122Z",
     "iopub.status.busy": "2025-03-08T11:57:04.150747Z",
     "iopub.status.idle": "2025-03-08T11:57:04.154402Z",
     "shell.execute_reply": "2025-03-08T11:57:04.153435Z"
    },
    "papermill": {
     "duration": 0.012741,
     "end_time": "2025-03-08T11:57:04.156060",
     "exception": false,
     "start_time": "2025-03-08T11:57:04.143319",
     "status": "completed"
    },
    "tags": []
   },
   "outputs": [],
   "source": [
    "#q5.hint()\n",
    "#q5.solution()"
   ]
  },
  {
   "cell_type": "markdown",
   "id": "82d51ccf",
   "metadata": {
    "papermill": {
     "duration": 0.006249,
     "end_time": "2025-03-08T11:57:04.169080",
     "exception": false,
     "start_time": "2025-03-08T11:57:04.162831",
     "status": "completed"
    },
    "tags": []
   },
   "source": [
    "# Keep going\n",
    "\n",
    "Move on to learn about **[indexing, selecting and assigning](https://www.kaggle.com/residentmario/indexing-selecting-assigning)**."
   ]
  },
  {
   "cell_type": "markdown",
   "id": "6290a795",
   "metadata": {
    "papermill": {
     "duration": 0.006301,
     "end_time": "2025-03-08T11:57:04.181978",
     "exception": false,
     "start_time": "2025-03-08T11:57:04.175677",
     "status": "completed"
    },
    "tags": []
   },
   "source": [
    "---\n",
    "\n",
    "\n",
    "\n",
    "\n",
    "*Have questions or comments? Visit the [course discussion forum](https://www.kaggle.com/learn/pandas/discussion) to chat with other learners.*"
   ]
  }
 ],
 "metadata": {
  "kaggle": {
   "accelerator": "none",
   "dataSources": [
    {
     "datasetId": 655,
     "sourceId": 1252,
     "sourceType": "datasetVersion"
    },
    {
     "datasetId": 2321,
     "sourceId": 3919,
     "sourceType": "datasetVersion"
    },
    {
     "datasetId": 2894,
     "sourceId": 4877,
     "sourceType": "datasetVersion"
    },
    {
     "datasetId": 3491,
     "sourceId": 5624,
     "sourceType": "datasetVersion"
    },
    {
     "datasetId": 1442,
     "sourceId": 8172,
     "sourceType": "datasetVersion"
    },
    {
     "datasetId": 9366,
     "sourceId": 13206,
     "sourceType": "datasetVersion"
    },
    {
     "datasetId": 179555,
     "sourceId": 403916,
     "sourceType": "datasetVersion"
    },
    {
     "datasetId": 4549,
     "sourceId": 466349,
     "sourceType": "datasetVersion"
    },
    {
     "datasetId": 2478,
     "sourceId": 1151655,
     "sourceType": "datasetVersion"
    },
    {
     "datasetId": 10128,
     "sourceId": 5438389,
     "sourceType": "datasetVersion"
    }
   ],
   "isGpuEnabled": false,
   "isInternetEnabled": false,
   "language": "python",
   "sourceType": "notebook"
  },
  "kernelspec": {
   "display_name": "Python 3",
   "language": "python",
   "name": "python3"
  },
  "language_info": {
   "codemirror_mode": {
    "name": "ipython",
    "version": 3
   },
   "file_extension": ".py",
   "mimetype": "text/x-python",
   "name": "python",
   "nbconvert_exporter": "python",
   "pygments_lexer": "ipython3",
   "version": "3.10.12"
  },
  "papermill": {
   "default_parameters": {},
   "duration": 7.401976,
   "end_time": "2025-03-08T11:57:04.808745",
   "environment_variables": {},
   "exception": null,
   "input_path": "__notebook__.ipynb",
   "output_path": "__notebook__.ipynb",
   "parameters": {},
   "start_time": "2025-03-08T11:56:57.406769",
   "version": "2.6.0"
  }
 },
 "nbformat": 4,
 "nbformat_minor": 5
}
